{
 "cells": [
  {
   "cell_type": "code",
   "execution_count": 14,
   "id": "daa958d5-0e07-4e37-9fa1-ae8b08824af1",
   "metadata": {},
   "outputs": [
    {
     "name": "stdout",
     "output_type": "stream",
     "text": [
      "Welcome to Number Guessing Game\n",
      "I'm thinking of a number between 1 and 100\n",
      "psst,the correct answer is 53\n"
     ]
    },
    {
     "name": "stdin",
     "output_type": "stream",
     "text": [
      "Choose a difficulty,Type 'easy' or 'hard': easy\n"
     ]
    },
    {
     "name": "stdout",
     "output_type": "stream",
     "text": [
      "You have 10 attempts remaining to guess the number\n"
     ]
    },
    {
     "name": "stdin",
     "output_type": "stream",
     "text": [
      "Make a Guess 12\n"
     ]
    },
    {
     "name": "stdout",
     "output_type": "stream",
     "text": [
      "Too Low\n",
      "Guess Again\n",
      "You have 10 attempts remaining to guess the number\n"
     ]
    },
    {
     "name": "stdin",
     "output_type": "stream",
     "text": [
      "Make a Guess 53\n"
     ]
    },
    {
     "name": "stdout",
     "output_type": "stream",
     "text": [
      "You got it! The answer was 53\n"
     ]
    }
   ],
   "source": [
    "from random import randint\n",
    "EASY_LEVEL_TURNS=10\n",
    "HARD_LEVEL_TURNS=5\n",
    "def check_answer(user_guess,actual_answer,turns):\n",
    "    if user_guess>actual_answer:\n",
    "        print(\"Too high\")\n",
    "        return turns - 1\n",
    "    elif user_guess<actual_answer:\n",
    "        print(\"Too Low\")\n",
    "        return turns - 1\n",
    "    else:\n",
    "        print(f\"You got it! The answer was {actual_answer}\")\n",
    "def set_difficulty():\n",
    "    leval=input(\"Choose a difficulty,Type 'easy' or 'hard':\")\n",
    "    \n",
    "    if leval==\"easy\":\n",
    "       return EASY_LEVEL_TURNS\n",
    "       \n",
    "    else:\n",
    "        return HARD_LEVEL_TURNS\n",
    "       \n",
    "def game():\n",
    "    print(\"Welcome to Number Guessing Game\") \n",
    "    print(\"I'm thinking of a number between 1 and 100\")\n",
    "    answer=randint(1,100)\n",
    "    print(f\"psst,the correct answer is {answer}\")\n",
    "    turns=set_difficulty()\n",
    "   \n",
    "    guess=0\n",
    "    while guess!=answer:\n",
    "        print(f\"You have {turns} attempts remaining to guess the number\")\n",
    "        guess=int(input(\"Make a Guess\"))\n",
    "        check_answer(guess,answer,turns)\n",
    "        if turns==0:\n",
    "            print(\"You run out of guesses .You Loose\")\n",
    "            return\n",
    "        elif guess!=answer:\n",
    "            print(\"Guess Again\")\n",
    "        \n",
    "game()\n"
   ]
  },
  {
   "cell_type": "code",
   "execution_count": 16,
   "id": "3e82a971-856d-4a46-86b6-e84f28fd4c51",
   "metadata": {},
   "outputs": [
    {
     "name": "stdout",
     "output_type": "stream",
     "text": [
      "Welcome to the Number Guessing Game!\n",
      "I'm thinking of a number between 1 and 100.\n"
     ]
    },
    {
     "name": "stdin",
     "output_type": "stream",
     "text": [
      "Choose a difficulty. Type 'easy' or 'hard':  hard\n"
     ]
    },
    {
     "name": "stdout",
     "output_type": "stream",
     "text": [
      "You have 5 attempts remaining to guess the number.\n"
     ]
    },
    {
     "name": "stdin",
     "output_type": "stream",
     "text": [
      "Make a guess:  50\n"
     ]
    },
    {
     "name": "stdout",
     "output_type": "stream",
     "text": [
      "Too low.\n",
      "Guess again.\n",
      "You have 4 attempts remaining to guess the number.\n"
     ]
    },
    {
     "name": "stdin",
     "output_type": "stream",
     "text": [
      "Make a guess:  45\n"
     ]
    },
    {
     "name": "stdout",
     "output_type": "stream",
     "text": [
      "Too low.\n",
      "Guess again.\n",
      "You have 3 attempts remaining to guess the number.\n"
     ]
    },
    {
     "name": "stdin",
     "output_type": "stream",
     "text": [
      "Make a guess:  90\n"
     ]
    },
    {
     "name": "stdout",
     "output_type": "stream",
     "text": [
      "Too high.\n",
      "Guess again.\n",
      "You have 2 attempts remaining to guess the number.\n"
     ]
    },
    {
     "name": "stdin",
     "output_type": "stream",
     "text": [
      "Make a guess:  80\n"
     ]
    },
    {
     "name": "stdout",
     "output_type": "stream",
     "text": [
      "Too high.\n",
      "Guess again.\n",
      "You have 1 attempts remaining to guess the number.\n"
     ]
    },
    {
     "name": "stdin",
     "output_type": "stream",
     "text": [
      "Make a guess:  70\n"
     ]
    },
    {
     "name": "stdout",
     "output_type": "stream",
     "text": [
      "Too low.\n",
      "You've run out of guesses. You lose.\n",
      "Psst, the correct answer is 71\n"
     ]
    }
   ],
   "source": [
    "from random import randint\n",
    "\n",
    "EASY_LEVEL_TURNS = 10\n",
    "HARD_LEVEL_TURNS = 5\n",
    "\n",
    "def check_answer(user_guess, actual_answer, turns):\n",
    "    if user_guess > actual_answer:\n",
    "        print(\"Too high.\")\n",
    "        return turns - 1\n",
    "    elif user_guess < actual_answer:\n",
    "        print(\"Too low.\")\n",
    "        return turns - 1\n",
    "    else:\n",
    "        print(f\"You got it! The answer was {actual_answer}\")\n",
    "        return turns\n",
    "\n",
    "def set_difficulty():\n",
    "    level = input(\"Choose a difficulty. Type 'easy' or 'hard': \").lower()\n",
    "    if level == \"easy\":\n",
    "        return EASY_LEVEL_TURNS\n",
    "    else:\n",
    "        return HARD_LEVEL_TURNS\n",
    "\n",
    "def game():\n",
    "    print(\"Welcome to the Number Guessing Game!\") \n",
    "    print(\"I'm thinking of a number between 1 and 100.\")\n",
    "    answer = randint(1, 100)\n",
    "      \n",
    "\n",
    "    turns = set_difficulty()\n",
    "    guess = 0\n",
    "\n",
    "    while guess != answer:\n",
    "        print(f\"You have {turns} attempts remaining to guess the number.\")\n",
    "        guess = int(input(\"Make a guess: \"))\n",
    "        turns = check_answer(guess, answer, turns)\n",
    "        \n",
    "        if guess != answer:\n",
    "            if turns == 0:\n",
    "                print(\"You've run out of guesses. You lose.\")\n",
    "                print(f\"Psst, the correct answer is {answer}\")\n",
    "                return\n",
    "            else:\n",
    "                print(\"Guess again.\")\n",
    "\n",
    "game()\n"
   ]
  },
  {
   "cell_type": "code",
   "execution_count": null,
   "id": "ece225e5-777a-4bf8-8c90-016566f4f363",
   "metadata": {},
   "outputs": [],
   "source": []
  }
 ],
 "metadata": {
  "kernelspec": {
   "display_name": "Python 3 (ipykernel)",
   "language": "python",
   "name": "python3"
  },
  "language_info": {
   "codemirror_mode": {
    "name": "ipython",
    "version": 3
   },
   "file_extension": ".py",
   "mimetype": "text/x-python",
   "name": "python",
   "nbconvert_exporter": "python",
   "pygments_lexer": "ipython3",
   "version": "3.9.18"
  }
 },
 "nbformat": 4,
 "nbformat_minor": 5
}
